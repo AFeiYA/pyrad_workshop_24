{
 "cells": [
  {
   "cell_type": "code",
   "execution_count": 23,
   "id": "a9035d98-d04e-4b44-9b39-1f5db154797a",
   "metadata": {},
   "outputs": [],
   "source": [
    "import datetime\n",
    "\n",
    "import frads as fr\n",
    "import numpy as np\n",
    "import pyradiance as pr"
   ]
  },
  {
   "cell_type": "code",
   "execution_count": 32,
   "id": "63e84809-0b6b-4fab-9d9c-adfaf2b87ae6",
   "metadata": {},
   "outputs": [],
   "source": [
    "!genssky 12 21 12 -a 37 -o 122 -m 120 -p ./Sources -n 8 > Sources/gs_1221_1200.rad"
   ]
  },
  {
   "cell_type": "code",
   "execution_count": 45,
   "id": "72d1cf22-c5f3-468d-8e4f-e7bb1b2dfa18",
   "metadata": {},
   "outputs": [],
   "source": [
    "my_scene = pr.Scene(\n",
    "    \"my_scene\", \n",
    "    surfaces=[\"Objects/floor.rad\", \"Objects/walls.rad\", \"Objects/ceiling.rad\"], \n",
    "    materials=[\"Objects/materials.mat\"], \n",
    "    sources=[\"Sources/gs_1221_1200.rad\", \"Sources/sky.rad\"]\n",
    ") "
   ]
  },
  {
   "cell_type": "code",
   "execution_count": 46,
   "id": "eb3162f3-fa37-4af4-aebe-bdfa0cf7b5f9",
   "metadata": {},
   "outputs": [],
   "source": [
    "floor_primitives = fr.unpack_primitives(\"Objects/floor.rad\")\n",
    "floor_polygon = fr.parse_polygon(floor_primitives[0])\n",
    "grid = fr.gen_grid(floor_polygon, 1, 0.75)"
   ]
  },
  {
   "cell_type": "code",
   "execution_count": 47,
   "id": "b678d293-9297-4e31-96ee-1c9e9dc37087",
   "metadata": {},
   "outputs": [
    {
     "name": "stderr",
     "output_type": "stream",
     "text": [
      "/home/taoningw/Projects/pyrad_workshop_24/.venv/lib/python3.12/site-packages/pyradiance/bin/oconv: warning - (Sources/gs_1221_1200.rad): empty file\n",
      "/home/taoningw/Projects/pyrad_workshop_24/.venv/lib/python3.12/site-packages/pyradiance/bin/oconv: fatal - (Sources/sky.rad): undefined modifier \"skyfunc\"\n"
     ]
    },
    {
     "ename": "RuntimeError",
     "evalue": "An error occurred with exit code 1: ",
     "output_type": "error",
     "traceback": [
      "\u001b[0;31m---------------------------------------------------------------------------\u001b[0m",
      "\u001b[0;31mCalledProcessError\u001b[0m                        Traceback (most recent call last)",
      "File \u001b[0;32m~/Projects/pyrad_workshop_24/.venv/lib/python3.12/site-packages/pyradiance/anci.py:22\u001b[0m, in \u001b[0;36mhandle_called_process_error.<locals>.wrapper\u001b[0;34m(*args, **kwargs)\u001b[0m\n\u001b[1;32m     21\u001b[0m \u001b[38;5;28;01mtry\u001b[39;00m:\n\u001b[0;32m---> 22\u001b[0m     result \u001b[38;5;241m=\u001b[39m \u001b[43mfunc\u001b[49m\u001b[43m(\u001b[49m\u001b[38;5;241;43m*\u001b[39;49m\u001b[43margs\u001b[49m\u001b[43m,\u001b[49m\u001b[43m \u001b[49m\u001b[38;5;241;43m*\u001b[39;49m\u001b[38;5;241;43m*\u001b[39;49m\u001b[43mkwargs\u001b[49m\u001b[43m)\u001b[49m\n\u001b[1;32m     23\u001b[0m \u001b[38;5;28;01mexcept\u001b[39;00m CalledProcessError \u001b[38;5;28;01mas\u001b[39;00m e:\n",
      "File \u001b[0;32m~/Projects/pyrad_workshop_24/.venv/lib/python3.12/site-packages/pyradiance/ot.py:56\u001b[0m, in \u001b[0;36moconv\u001b[0;34m(warning, stdin, frozen, octree, *paths)\u001b[0m\n\u001b[1;32m     55\u001b[0m         \u001b[38;5;28;01mraise\u001b[39;00m \u001b[38;5;167;01mTypeError\u001b[39;00m(\u001b[38;5;124m\"\u001b[39m\u001b[38;5;124mstdin should be bytes.\u001b[39m\u001b[38;5;124m\"\u001b[39m)\n\u001b[0;32m---> 56\u001b[0m \u001b[38;5;28;01mreturn\u001b[39;00m \u001b[43msp\u001b[49m\u001b[38;5;241;43m.\u001b[39;49m\u001b[43mrun\u001b[49m\u001b[43m(\u001b[49m\u001b[43mcmd\u001b[49m\u001b[43m,\u001b[49m\u001b[43m \u001b[49m\u001b[38;5;28;43minput\u001b[39;49m\u001b[38;5;241;43m=\u001b[39;49m\u001b[43mstdin\u001b[49m\u001b[43m,\u001b[49m\u001b[43m \u001b[49m\u001b[43mstdout\u001b[49m\u001b[38;5;241;43m=\u001b[39;49m\u001b[43msp\u001b[49m\u001b[38;5;241;43m.\u001b[39;49m\u001b[43mPIPE\u001b[49m\u001b[43m,\u001b[49m\u001b[43m \u001b[49m\u001b[43mcheck\u001b[49m\u001b[38;5;241;43m=\u001b[39;49m\u001b[38;5;28;43;01mTrue\u001b[39;49;00m\u001b[43m)\u001b[49m\u001b[38;5;241m.\u001b[39mstdout\n",
      "File \u001b[0;32m/usr/lib/python3.12/subprocess.py:571\u001b[0m, in \u001b[0;36mrun\u001b[0;34m(input, capture_output, timeout, check, *popenargs, **kwargs)\u001b[0m\n\u001b[1;32m    570\u001b[0m     \u001b[38;5;28;01mif\u001b[39;00m check \u001b[38;5;129;01mand\u001b[39;00m retcode:\n\u001b[0;32m--> 571\u001b[0m         \u001b[38;5;28;01mraise\u001b[39;00m CalledProcessError(retcode, process\u001b[38;5;241m.\u001b[39margs,\n\u001b[1;32m    572\u001b[0m                                  output\u001b[38;5;241m=\u001b[39mstdout, stderr\u001b[38;5;241m=\u001b[39mstderr)\n\u001b[1;32m    573\u001b[0m \u001b[38;5;28;01mreturn\u001b[39;00m CompletedProcess(process\u001b[38;5;241m.\u001b[39margs, retcode, stdout, stderr)\n",
      "\u001b[0;31mCalledProcessError\u001b[0m: Command '['/home/taoningw/Projects/pyrad_workshop_24/.venv/lib/python3.12/site-packages/pyradiance/bin/oconv', '-i', 'my_scenemat.oct', 'Objects/floor.rad', 'Objects/walls.rad', 'Objects/ceiling.rad', 'Sources/gs_1221_1200.rad', 'Sources/sky.rad']' returned non-zero exit status 1.",
      "\nDuring handling of the above exception, another exception occurred:\n",
      "\u001b[0;31mRuntimeError\u001b[0m                              Traceback (most recent call last)",
      "Cell \u001b[0;32mIn[47], line 13\u001b[0m\n\u001b[1;32m      2\u001b[0m nband \u001b[38;5;241m=\u001b[39m \u001b[38;5;241m20\u001b[39m\n\u001b[1;32m      3\u001b[0m params \u001b[38;5;241m=\u001b[39m pr\u001b[38;5;241m.\u001b[39mSamplingParameters(\n\u001b[1;32m      4\u001b[0m     I\u001b[38;5;241m=\u001b[39m\u001b[38;5;28;01mTrue\u001b[39;00m,\n\u001b[1;32m      5\u001b[0m     ab\u001b[38;5;241m=\u001b[39m\u001b[38;5;241m3\u001b[39m,\n\u001b[0;32m   (...)\u001b[0m\n\u001b[1;32m     10\u001b[0m     cs\u001b[38;5;241m=\u001b[39mnband,\n\u001b[1;32m     11\u001b[0m )\n\u001b[0;32m---> 13\u001b[0m result \u001b[38;5;241m=\u001b[39m pr\u001b[38;5;241m.\u001b[39mrtrace(grid_rays\u001b[38;5;241m.\u001b[39mencode(), \u001b[43mmy_scene\u001b[49m\u001b[38;5;241;43m.\u001b[39;49m\u001b[43moctree\u001b[49m, params\u001b[38;5;241m=\u001b[39mparams\u001b[38;5;241m.\u001b[39margs()\u001b[38;5;241m+\u001b[39m[\u001b[38;5;124m'\u001b[39m\u001b[38;5;124m-pM\u001b[39m\u001b[38;5;124m'\u001b[39m], header\u001b[38;5;241m=\u001b[39m\u001b[38;5;28;01mFalse\u001b[39;00m, outform\u001b[38;5;241m=\u001b[39m\u001b[38;5;124m'\u001b[39m\u001b[38;5;124mf\u001b[39m\u001b[38;5;124m'\u001b[39m)\n",
      "File \u001b[0;32m~/Projects/pyrad_workshop_24/.venv/lib/python3.12/site-packages/pyradiance/model.py:189\u001b[0m, in \u001b[0;36moctree\u001b[0;34m(self)\u001b[0m\n\u001b[1;32m    185\u001b[0m \u001b[38;5;250m    \u001b[39m\u001b[38;5;124;03m\"\"\"Scene materials.\"\"\"\u001b[39;00m\n\u001b[1;32m    186\u001b[0m     \u001b[38;5;28;01mreturn\u001b[39;00m \u001b[38;5;28mself\u001b[39m\u001b[38;5;241m.\u001b[39m_materials\n\u001b[1;32m    188\u001b[0m \u001b[38;5;129m@property\u001b[39m\n\u001b[0;32m--> 189\u001b[0m \u001b[38;5;28;01mdef\u001b[39;00m \u001b[38;5;21msurfaces\u001b[39m(\u001b[38;5;28mself\u001b[39m):\n\u001b[1;32m    190\u001b[0m \u001b[38;5;250m    \u001b[39m\u001b[38;5;124;03m\"\"\"Scene surfaces.\"\"\"\u001b[39;00m\n\u001b[1;32m    191\u001b[0m     \u001b[38;5;28;01mreturn\u001b[39;00m \u001b[38;5;28mself\u001b[39m\u001b[38;5;241m.\u001b[39m_surfaces\n",
      "File \u001b[0;32m~/Projects/pyrad_workshop_24/.venv/lib/python3.12/site-packages/pyradiance/model.py:319\u001b[0m, in \u001b[0;36m_build\u001b[0;34m(self)\u001b[0m\n\u001b[1;32m      0\u001b[0m <Error retrieving source code with stack_data see ipython/ipython#13598>\n",
      "File \u001b[0;32m~/Projects/pyrad_workshop_24/.venv/lib/python3.12/site-packages/pyradiance/anci.py:25\u001b[0m, in \u001b[0;36mhandle_called_process_error.<locals>.wrapper\u001b[0;34m(*args, **kwargs)\u001b[0m\n\u001b[1;32m     23\u001b[0m \u001b[38;5;28;01mexcept\u001b[39;00m CalledProcessError \u001b[38;5;28;01mas\u001b[39;00m e:\n\u001b[1;32m     24\u001b[0m     errmsg \u001b[38;5;241m=\u001b[39m e\u001b[38;5;241m.\u001b[39mstderr \u001b[38;5;129;01mor\u001b[39;00m \u001b[38;5;124mb\u001b[39m\u001b[38;5;124m\"\u001b[39m\u001b[38;5;124m\"\u001b[39m\n\u001b[0;32m---> 25\u001b[0m     \u001b[38;5;28;01mraise\u001b[39;00m \u001b[38;5;167;01mRuntimeError\u001b[39;00m(\n\u001b[1;32m     26\u001b[0m         \u001b[38;5;124mf\u001b[39m\u001b[38;5;124m\"\u001b[39m\u001b[38;5;124mAn error occurred with exit code \u001b[39m\u001b[38;5;132;01m{\u001b[39;00me\u001b[38;5;241m.\u001b[39mreturncode\u001b[38;5;132;01m}\u001b[39;00m\u001b[38;5;124m: \u001b[39m\u001b[38;5;132;01m{\u001b[39;00merrmsg\u001b[38;5;241m.\u001b[39mdecode()\u001b[38;5;132;01m}\u001b[39;00m\u001b[38;5;124m\"\u001b[39m\n\u001b[1;32m     27\u001b[0m     )\n\u001b[1;32m     28\u001b[0m \u001b[38;5;28;01melse\u001b[39;00m:\n\u001b[1;32m     29\u001b[0m     \u001b[38;5;28;01mreturn\u001b[39;00m result\n",
      "\u001b[0;31mRuntimeError\u001b[0m: An error occurred with exit code 1: "
     ]
    }
   ],
   "source": [
    "grid_rays = \"\\n\".join(\" \".join(map(str, row)) for row in grid)\n",
    "nband = 20\n",
    "params = pr.SamplingParameters(\n",
    "    I=True,\n",
    "    ab=3,\n",
    "    ad=64,\n",
    "    aa=0,\n",
    "    lw=0.01,\n",
    "    co=True,\n",
    "    cs=nband,\n",
    ")\n",
    "\n",
    "result = pr.rtrace(grid_rays.encode(), my_scene.octree, params=params.args()+['-pM'], header=False, outform='f')"
   ]
  },
  {
   "cell_type": "code",
   "execution_count": 31,
   "id": "4ae2ac0c-13dc-47ae-b66e-744d39f71d77",
   "metadata": {},
   "outputs": [
    {
     "data": {
      "text/plain": [
       "array([[ 8.285109  ,  8.707217  ,  9.108302  , ...,  8.901357  ,\n",
       "         8.757208  ,  5.5170717 ],\n",
       "       [ 9.454418  ,  9.977831  , 10.489512  , ..., 12.284313  ,\n",
       "        12.371345  ,  7.8352675 ],\n",
       "       [11.432169  , 12.089826  , 12.741335  , ..., 16.037603  ,\n",
       "        16.244932  , 10.251082  ],\n",
       "       ...,\n",
       "       [ 1.0562896 ,  1.1216528 ,  1.1836226 , ...,  0.9271964 ,\n",
       "         0.84024006,  0.4686918 ],\n",
       "       [ 1.7059819 ,  1.8094047 ,  1.9088448 , ...,  1.4682673 ,\n",
       "         1.3203706 ,  0.7187464 ],\n",
       "       [ 1.5869509 ,  1.6857679 ,  1.7822587 , ...,  1.4114621 ,\n",
       "         1.2855121 ,  0.70861715]], dtype=float32)"
      ]
     },
     "execution_count": 31,
     "metadata": {},
     "output_type": "execute_result"
    }
   ],
   "source": [
    "np.frombuffer(result, dtype=np.single).reshape(-1, nband)"
   ]
  },
  {
   "cell_type": "code",
   "execution_count": 43,
   "id": "a857cf3d-503f-40cd-8112-370627046d62",
   "metadata": {},
   "outputs": [
    {
     "data": {
      "text/plain": [
       "(53,)"
      ]
     },
     "execution_count": 43,
     "metadata": {},
     "output_type": "execute_result"
    }
   ],
   "source": []
  },
  {
   "cell_type": "code",
   "execution_count": null,
   "id": "8b6f3dba-705d-49b9-8abc-6eddc4ca05c7",
   "metadata": {},
   "outputs": [],
   "source": []
  }
 ],
 "metadata": {
  "kernelspec": {
   "display_name": ".venv",
   "language": "python",
   "name": ".venv"
  },
  "language_info": {
   "codemirror_mode": {
    "name": "ipython",
    "version": 3
   },
   "file_extension": ".py",
   "mimetype": "text/x-python",
   "name": "python",
   "nbconvert_exporter": "python",
   "pygments_lexer": "ipython3",
   "version": "3.12.4"
  }
 },
 "nbformat": 4,
 "nbformat_minor": 5
}
